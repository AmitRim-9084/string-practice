{
 "cells": [
  {
   "cell_type": "markdown",
   "metadata": {},
   "source": [
    "# Write a program that accepts a string from user. Your program should count and display number of vowels in that string.\n"
   ]
  },
  {
   "cell_type": "code",
   "execution_count": 6,
   "metadata": {},
   "outputs": [
    {
     "name": "stdout",
     "output_type": "stream",
     "text": [
      "Enter the Word per your choice:- Umbrella\n",
      "No. of Vowel of the Word Umbrella 3\n",
      "Vowels are in the Word Umbrella ['U', 'e', 'a']\n"
     ]
    }
   ],
   "source": [
    "string=str(input(\"Enter the Word per your choice:- \"))\n",
    "vow=0\n",
    "vow_l=[]\n",
    "for i in string:\n",
    "    if(i=='A')or(i=='a')or(i=='E')or(i=='e')or(i=='i')or(i=='I')or(i=='o')or(i=='O')or(i=='u')or(i=='U'):\n",
    "        vow=vow+1 \n",
    "        vow_l.append(i)\n",
    "print(\"No. of Vowel of the Word\",string, vow)\n",
    "print(\"Vowels are in the Word\", string,vow_l)"
   ]
  },
  {
   "cell_type": "markdown",
   "metadata": {},
   "source": [
    "Write a program that reads a string from keyboard and display:\n",
    "*The number of uppercase letters in the string * The number of lowercase letters in the string\n",
    "* The number of digits in the string\n",
    "*The number of whitespace characters in the string \n",
    "\n"
   ]
  },
  {
   "cell_type": "code",
   "execution_count": 13,
   "metadata": {},
   "outputs": [
    {
     "name": "stdout",
     "output_type": "stream",
     "text": [
      "Enter the Word per your choice:- Advitya12\n",
      "The Number of uppercase letter in the Word:- Advitya12 1\n",
      "The Number of Lowercase letter in the Word:- Advitya12 6\n",
      "The Number of Digit in the Word:-  Advitya12 2\n",
      "The Number of Space:-  Advitya12 0\n"
     ]
    }
   ],
   "source": [
    "strg=str(input(\"Enter the Word per your choice:- \"))\n",
    "upper=lower=digit=space=0\n",
    "for i in strg:\n",
    "    if i.isupper():\n",
    "        upper=upper+1\n",
    "        \n",
    "    elif i.islower():\n",
    "        lower=lower+1\n",
    "    elif i.isdigit():\n",
    "        digit=digit+1\n",
    "    elif i=='':\n",
    "        space=space+1\n",
    "print(\"The Number of uppercase letter in the Word:-\", strg,upper)\n",
    "print(\"The Number of Lowercase letter in the Word:-\", strg,lower)\n",
    "print(\"The Number of Digit in the Word:- \", strg, digit)\n",
    "print(\"The Number of Space:- \", strg, space)\n",
    "\n",
    "\n",
    "\n",
    "\n",
    "    "
   ]
  },
  {
   "cell_type": "markdown",
   "metadata": {},
   "source": [
    "3. Write a Python program that accepts a string from user. Your program should create and display a new string where the first and last characters have been exchanged.\n",
    "\n"
   ]
  },
  {
   "cell_type": "code",
   "execution_count": 15,
   "metadata": {},
   "outputs": [
    {
     "name": "stdout",
     "output_type": "stream",
     "text": [
      "Enter the text:- AMIT\n",
      "After Swap the Exchange String is TMIA\n"
     ]
    }
   ],
   "source": [
    "text=input(\"Enter the text:- \")\n",
    "newtext=text[-1]+text[1:-1]+text[0]\n",
    "print(\"After Swap the Exchange String is\", newtext)\n"
   ]
  },
  {
   "cell_type": "markdown",
   "metadata": {},
   "source": [
    "Program to Reverse the String\n"
   ]
  },
  {
   "cell_type": "code",
   "execution_count": 18,
   "metadata": {},
   "outputs": [
    {
     "name": "stdout",
     "output_type": "stream",
     "text": [
      "Enter the text:- EXAM\n",
      "Afer reverse the string is:-  MAXE\n"
     ]
    }
   ],
   "source": [
    "txt=input(\"Enter the text:- \")\n",
    "newtext=txt[::-1]\n",
    "print(\"Afer reverse the string is:- \",newtext)"
   ]
  },
  {
   "cell_type": "markdown",
   "metadata": {},
   "source": [
    "Write a Python program that accepts a string from user. Your program should create a new string by shifting one position to left.\n",
    "\n"
   ]
  },
  {
   "cell_type": "code",
   "execution_count": 19,
   "metadata": {},
   "outputs": [
    {
     "name": "stdout",
     "output_type": "stream",
     "text": [
      "Enter the text:- EXAMINATION 2021\n",
      "After Shifting the string is:-  XAMINATION 2021E\n"
     ]
    }
   ],
   "source": [
    "text=input(\"Enter the text:- \")\n",
    "newtext=text[1:]+text[0]\n",
    "print(\"After Shifting the string is:- \",newtext)"
   ]
  },
  {
   "cell_type": "markdown",
   "metadata": {},
   "source": [
    "Write a program that asks the user to input his name and print its initials. Assuming that the user always types first name, middle name and last name and does not include any unnecessary spaces.\n",
    "\n"
   ]
  },
  {
   "cell_type": "code",
   "execution_count": 25,
   "metadata": {},
   "outputs": [
    {
     "name": "stdout",
     "output_type": "stream",
     "text": [
      "Enter the text:- Shree Kant Singh\n",
      "S.K.S."
     ]
    }
   ],
   "source": [
    "text=input(\"Enter the text:- \")\n",
    "for ch in text:\n",
    "    if ch.isupper():\n",
    "        print(ch, end=\".\")\n",
    "    "
   ]
  },
  {
   "cell_type": "code",
   "execution_count": 24,
   "metadata": {},
   "outputs": [
    {
     "name": "stdout",
     "output_type": "stream",
     "text": [
      "Enter the text:- Bhupendra Prasad Singh\n",
      "User Short or Initial Name:-  B. P. S.\n"
     ]
    }
   ],
   "source": [
    "text=input(\"Enter the text:- \")\n",
    "space1=text.find(' ')\n",
    "space2=text.find(' ',space1+1)\n",
    "newtext = text[0] +'. '  + text[space1+1] +'. ' + text[space2+1] +'.'\n",
    "print(\"User Short or Initial Name:- \",newtext)"
   ]
  },
  {
   "cell_type": "code",
   "execution_count": 29,
   "metadata": {},
   "outputs": [
    {
     "name": "stdout",
     "output_type": "stream",
     "text": [
      "Enter the text:- MADAM\n",
      "String is Palindrome\n"
     ]
    }
   ],
   "source": [
    "text=input(\"Enter the text:- \")\n",
    "rev_txt=text[::-1]\n",
    "if rev_txt==text:\n",
    "    print(\"String is Palindrome\")\n",
    "else:\n",
    "    print(\"String is Not Palindrome\")"
   ]
  },
  {
   "cell_type": "code",
   "execution_count": 32,
   "metadata": {},
   "outputs": [
    {
     "name": "stdout",
     "output_type": "stream",
     "text": [
      "Enter the text:- AMIT\n",
      "AMIT\n",
      "MITA\n",
      "ITAM\n",
      "TAMI\n",
      "AMIT\n"
     ]
    }
   ],
   "source": [
    "text=input(\"Enter the text:- \")\n",
    "for i in range(len(text)+1):\n",
    "    newtext=text[i:]+text[:i]\n",
    "    print(newtext)"
   ]
  },
  {
   "cell_type": "markdown",
   "metadata": {},
   "source": [
    "Write a program in python that accepts a string to setup a passwords. Your entered password must meet the following requirements:\n",
    "\n",
    "The password must be at least eight characters long.\n",
    "It must contain at least one uppercase letter.\n",
    "It must contain at least one lowercase letter.\n",
    "It must contain at least one numeric digit.\n"
   ]
  },
  {
   "cell_type": "code",
   "execution_count": 34,
   "metadata": {},
   "outputs": [
    {
     "name": "stdout",
     "output_type": "stream",
     "text": [
      "Enter the Passowrd:- Laura12Chica\n",
      "Password is Valid\n"
     ]
    }
   ],
   "source": [
    "lower=upper=digit=length=False\n",
    "password=input(\"Enter the Passowrd:- \")\n",
    "if len(password)>=8:\n",
    "    length=True\n",
    "    for letter in password:\n",
    "        if letter.isupper():\n",
    "            upper=True\n",
    "        elif letter.islower():\n",
    "            lower=True\n",
    "        elif letter.isdigit():\n",
    "            digit=True\n",
    "if length & upper & digit & lower:\n",
    "    print(\"Password is Valid\")\n",
    "else:\n",
    "    print(\"Password is Not a Valid\")\n"
   ]
  },
  {
   "cell_type": "code",
   "execution_count": null,
   "metadata": {},
   "outputs": [],
   "source": []
  },
  {
   "cell_type": "code",
   "execution_count": null,
   "metadata": {},
   "outputs": [],
   "source": []
  }
 ],
 "metadata": {
  "kernelspec": {
   "display_name": "Python 3",
   "language": "python",
   "name": "python3"
  },
  "language_info": {
   "codemirror_mode": {
    "name": "ipython",
    "version": 3
   },
   "file_extension": ".py",
   "mimetype": "text/x-python",
   "name": "python",
   "nbconvert_exporter": "python",
   "pygments_lexer": "ipython3",
   "version": "3.8.5"
  }
 },
 "nbformat": 4,
 "nbformat_minor": 4
}
